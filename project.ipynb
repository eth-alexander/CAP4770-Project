{
 "cells": [
  {
   "cell_type": "code",
   "execution_count": 1,
   "metadata": {},
   "outputs": [],
   "source": [
    "# imports\n",
    "import pandas as pd"
   ]
  },
  {
   "cell_type": "code",
   "execution_count": null,
   "metadata": {},
   "outputs": [],
   "source": [
    "# load data\n",
    "df2009_2010 = pd.read_csv(\"year2009-2010.csv\", encoding=\"latin1\")\n",
    "df2010_2011 = pd.read_csv(\"year2010-2011.csv\", encoding=\"latin1\")"
   ]
  },
  {
   "cell_type": "code",
   "execution_count": null,
   "metadata": {},
   "outputs": [],
   "source": [
    "# clean data\n",
    "\n",
    "# rename invoice column\n",
    "df2009_2010.rename(columns={df2009_2010.columns[0]: 'Invoice'}, inplace=True)\n",
    "df2010_2011.rename(columns={df2010_2011.columns[0]: 'Invoice'}, inplace=True)\n",
    "\n",
    "# remove non-customer transactions\n",
    "df2010_2011 = df2010_2011.dropna(subset=['Customer ID'])\n",
    "df2009_2010 = df2009_2010.dropna(subset=['Customer ID'])"
   ]
  },
  {
   "cell_type": "code",
   "execution_count": 25,
   "metadata": {},
   "outputs": [
    {
     "name": "stdout",
     "output_type": "stream",
     "text": [
      "       Invoice StockCode                        Description  Quantity  \\\n",
      "289     489488     22125       UNION JACK HOT WATER BOTTLE          2   \n",
      "299     489488     22125       UNION JACK HOT WATER BOTTLE          1   \n",
      "362     489517     21913     VINTAGE SEASIDE JIGSAW PUZZLES         1   \n",
      "363     489517     21912           VINTAGE SNAKES & LADDERS         1   \n",
      "365     489517     21821   GLITTER STAR GARLAND WITH BELLS          1   \n",
      "...        ...       ...                                ...       ...   \n",
      "525259  538163     21479      WHITE SKULL HOT WATER BOTTLE          1   \n",
      "525292  538166     21915             RED  HARMONICA IN BOX          5   \n",
      "525293  538166     21915             RED  HARMONICA IN BOX          5   \n",
      "525330  538168     22739  RIBBON REEL CHRISTMAS SOCK BAUBLE         5   \n",
      "525340  538168     22739  RIBBON REEL CHRISTMAS SOCK BAUBLE         5   \n",
      "\n",
      "            InvoiceDate  Price  Customer ID         Country  \n",
      "289     12/1/2009 10:59   5.95      17238.0  United Kingdom  \n",
      "299     12/1/2009 10:59   5.95      17238.0  United Kingdom  \n",
      "362     12/1/2009 11:34   3.75      16329.0  United Kingdom  \n",
      "363     12/1/2009 11:34   3.75      16329.0  United Kingdom  \n",
      "365     12/1/2009 11:34   3.75      16329.0  United Kingdom  \n",
      "...                 ...    ...          ...             ...  \n",
      "525259  12/9/2010 17:27   3.75      17841.0  United Kingdom  \n",
      "525292  12/9/2010 18:09   1.25      17965.0  United Kingdom  \n",
      "525293  12/9/2010 18:09   1.25      17965.0  United Kingdom  \n",
      "525330  12/9/2010 19:23   1.65      14702.0  United Kingdom  \n",
      "525340  12/9/2010 19:23   1.65      14702.0  United Kingdom  \n",
      "\n",
      "[25399 rows x 8 columns]\n"
     ]
    }
   ],
   "source": [
    "print(df2009_2010[df2009_2010.duplicated(subset=['StockCode', 'Invoice'], keep=False)])"
   ]
  }
 ],
 "metadata": {
  "kernelspec": {
   "display_name": "Python 3",
   "language": "python",
   "name": "python3"
  },
  "language_info": {
   "codemirror_mode": {
    "name": "ipython",
    "version": 3
   },
   "file_extension": ".py",
   "mimetype": "text/x-python",
   "name": "python",
   "nbconvert_exporter": "python",
   "pygments_lexer": "ipython3",
   "version": "3.10.4"
  }
 },
 "nbformat": 4,
 "nbformat_minor": 2
}
