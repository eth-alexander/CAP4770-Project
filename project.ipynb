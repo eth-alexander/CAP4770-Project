{
 "cells": [
  {
   "cell_type": "code",
   "execution_count": 1,
   "metadata": {},
   "outputs": [],
   "source": [
    "# imports\n",
    "import pandas as pd"
   ]
  },
  {
   "cell_type": "code",
   "execution_count": 2,
   "metadata": {},
   "outputs": [
    {
     "name": "stdout",
     "output_type": "stream",
     "text": [
      "  ï»¿Invoice StockCode                          Description  Quantity  \\\n",
      "0     489434     85048  15CM CHRISTMAS GLASS BALL 20 LIGHTS        12   \n",
      "1     489434    79323P                   PINK CHERRY LIGHTS        12   \n",
      "2     489434    79323W                  WHITE CHERRY LIGHTS        12   \n",
      "3     489434     22041         RECORD FRAME 7\" SINGLE SIZE         48   \n",
      "4     489434     21232       STRAWBERRY CERAMIC TRINKET BOX        24   \n",
      "\n",
      "      InvoiceDate  Price  Customer ID         Country  \n",
      "0  12/1/2009 7:45   6.95      13085.0  United Kingdom  \n",
      "1  12/1/2009 7:45   6.75      13085.0  United Kingdom  \n",
      "2  12/1/2009 7:45   6.75      13085.0  United Kingdom  \n",
      "3  12/1/2009 7:45   2.10      13085.0  United Kingdom  \n",
      "4  12/1/2009 7:45   1.25      13085.0  United Kingdom  \n",
      "  Invoice StockCode                          Description  Quantity  \\\n",
      "0  536365    85123A   WHITE HANGING HEART T-LIGHT HOLDER         6   \n",
      "1  536365     71053                  WHITE METAL LANTERN         6   \n",
      "2  536365    84406B       CREAM CUPID HEARTS COAT HANGER         8   \n",
      "3  536365    84029G  KNITTED UNION FLAG HOT WATER BOTTLE         6   \n",
      "4  536365    84029E       RED WOOLLY HOTTIE WHITE HEART.         6   \n",
      "\n",
      "      InvoiceDate  Price  Customer ID         Country  \n",
      "0  12/1/2010 8:26   2.55      17850.0  United Kingdom  \n",
      "1  12/1/2010 8:26   3.39      17850.0  United Kingdom  \n",
      "2  12/1/2010 8:26   2.75      17850.0  United Kingdom  \n",
      "3  12/1/2010 8:26   3.39      17850.0  United Kingdom  \n",
      "4  12/1/2010 8:26   3.39      17850.0  United Kingdom  \n"
     ]
    }
   ],
   "source": [
    "# load data\n",
    "df2009_2010 = pd.read_csv(\"year2009-2010.csv\", encoding=\"latin1\")\n",
    "df2010_2011 = pd.read_csv(\"year2010-2011.csv\", encoding=\"latin1\")\n",
    "\n",
    "print(df2009_2010.head())\n",
    "print(df2010_2011.head())"
   ]
  }
 ],
 "metadata": {
  "kernelspec": {
   "display_name": "Python 3",
   "language": "python",
   "name": "python3"
  },
  "language_info": {
   "codemirror_mode": {
    "name": "ipython",
    "version": 3
   },
   "file_extension": ".py",
   "mimetype": "text/x-python",
   "name": "python",
   "nbconvert_exporter": "python",
   "pygments_lexer": "ipython3",
   "version": "3.10.4"
  }
 },
 "nbformat": 4,
 "nbformat_minor": 2
}
